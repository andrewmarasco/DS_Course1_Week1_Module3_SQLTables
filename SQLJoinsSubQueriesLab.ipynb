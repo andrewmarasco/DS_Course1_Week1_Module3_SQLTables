{
 "cells": [
  {
   "cell_type": "markdown",
   "metadata": {
    "id": "VeLyr3QqBquN"
   },
   "source": [
    "## Introduction\n",
    "\n",
    "In this lab assessment, you'll practice your knowledge of JOIN statements and subqueries, using various types of joins and various methods for specifying the links between them. One of the main benefits of using a relational database is the table relations that define them which allow you to access and connect data together via shared columns. By writing more advanced SQL queries that utilize joins and subqueries you can provide a deeper and more granular level of analysis and data retrieval.\n",
    "\n",
    "This assessment will continue looking at the familiar Northwind database that contains customer relationship management (CRM) data as well as employee and product data. You will take a deeper dive into this database in order to accomplish more advanced SQL queries that require you to access data from multiple tables at once. \n",
    "\n",
    "Imagine that you are working in an analyst role for the sales rep team. They have collaborated with the customer relations and the product teams to take a comprehensive look at the employee to customer pipeline in an attempt to find areas of improvement and potential growth. You have been asked to provide some specific data and statistics regarding this project."
   ]
  },
  {
   "cell_type": "markdown",
   "metadata": {
    "id": "8jkbDVuOB5AH"
   },
   "source": [
    "## Learning Objectives\n",
    "\n",
    "You will be able to:\n",
    "\n",
    "* Write SQL queries that make use of various types of joins\n",
    "* Choose and perform whichever type of join is best for retrieving desired data\n",
    "* Write subqueries to decompose complex queries"
   ]
  },
  {
   "cell_type": "markdown",
   "metadata": {
    "id": "c0hBOncDCN6Y"
   },
   "source": [
    "## Database\n",
    "\n",
    "The database will be the customer relationship management (CRM) database, which has the following ERD.\n",
    "\n",
    "![Database-Schema.png](ERD.png)\n",
    "\n",
    "### Connect to the database\n",
    "\n",
    "In the cell below we have provided the code to import both pandas and sqlite3 as well as define and create the connection to the database you will use. Also displayed is the schema and table names from the database. Use this information in conjunction with the ERD image above to assist in creating your SQL Queries.\n",
    "\n",
    "Major Hint: Look for the shared columns across tables you need to 'join' together."
   ]
  },
  {
   "cell_type": "code",
   "execution_count": 2,
   "metadata": {
    "colab": {
     "base_uri": "https://localhost:8080/",
     "height": 771
    },
    "id": "oWsp6tECDSTB",
    "outputId": "9193fd49-c951-4056-8c0e-b4f9867fbc81"
   },
   "outputs": [
    {
     "data": {
      "text/html": [
       "<div>\n",
       "<style scoped>\n",
       "    .dataframe tbody tr th:only-of-type {\n",
       "        vertical-align: middle;\n",
       "    }\n",
       "\n",
       "    .dataframe tbody tr th {\n",
       "        vertical-align: top;\n",
       "    }\n",
       "\n",
       "    .dataframe thead th {\n",
       "        text-align: right;\n",
       "    }\n",
       "</style>\n",
       "<table border=\"1\" class=\"dataframe\">\n",
       "  <thead>\n",
       "    <tr style=\"text-align: right;\">\n",
       "      <th></th>\n",
       "      <th>type</th>\n",
       "      <th>name</th>\n",
       "      <th>tbl_name</th>\n",
       "      <th>rootpage</th>\n",
       "      <th>sql</th>\n",
       "    </tr>\n",
       "  </thead>\n",
       "  <tbody>\n",
       "    <tr>\n",
       "      <th>0</th>\n",
       "      <td>table</td>\n",
       "      <td>orderdetails</td>\n",
       "      <td>orderdetails</td>\n",
       "      <td>2</td>\n",
       "      <td>CREATE TABLE `orderdetails` (`orderNumber`, `p...</td>\n",
       "    </tr>\n",
       "    <tr>\n",
       "      <th>1</th>\n",
       "      <td>table</td>\n",
       "      <td>payments</td>\n",
       "      <td>payments</td>\n",
       "      <td>28</td>\n",
       "      <td>CREATE TABLE `payments` (`customerNumber`, `ch...</td>\n",
       "    </tr>\n",
       "    <tr>\n",
       "      <th>2</th>\n",
       "      <td>table</td>\n",
       "      <td>offices</td>\n",
       "      <td>offices</td>\n",
       "      <td>32</td>\n",
       "      <td>CREATE TABLE `offices` (`officeCode`, `city`, ...</td>\n",
       "    </tr>\n",
       "    <tr>\n",
       "      <th>3</th>\n",
       "      <td>table</td>\n",
       "      <td>customers</td>\n",
       "      <td>customers</td>\n",
       "      <td>33</td>\n",
       "      <td>CREATE TABLE `customers` (`customerNumber`, `c...</td>\n",
       "    </tr>\n",
       "    <tr>\n",
       "      <th>4</th>\n",
       "      <td>table</td>\n",
       "      <td>orders</td>\n",
       "      <td>orders</td>\n",
       "      <td>38</td>\n",
       "      <td>CREATE TABLE `orders` (`orderNumber`, `orderDa...</td>\n",
       "    </tr>\n",
       "    <tr>\n",
       "      <th>5</th>\n",
       "      <td>table</td>\n",
       "      <td>productlines</td>\n",
       "      <td>productlines</td>\n",
       "      <td>46</td>\n",
       "      <td>CREATE TABLE `productlines` (`productLine`, `t...</td>\n",
       "    </tr>\n",
       "    <tr>\n",
       "      <th>6</th>\n",
       "      <td>table</td>\n",
       "      <td>products</td>\n",
       "      <td>products</td>\n",
       "      <td>47</td>\n",
       "      <td>CREATE TABLE `products` (`productCode`, `produ...</td>\n",
       "    </tr>\n",
       "    <tr>\n",
       "      <th>7</th>\n",
       "      <td>table</td>\n",
       "      <td>employees</td>\n",
       "      <td>employees</td>\n",
       "      <td>56</td>\n",
       "      <td>CREATE TABLE `employees` (`employeeNumber`, `l...</td>\n",
       "    </tr>\n",
       "  </tbody>\n",
       "</table>\n",
       "</div>"
      ],
      "text/plain": [
       "    type          name      tbl_name  rootpage  \\\n",
       "0  table  orderdetails  orderdetails         2   \n",
       "1  table      payments      payments        28   \n",
       "2  table       offices       offices        32   \n",
       "3  table     customers     customers        33   \n",
       "4  table        orders        orders        38   \n",
       "5  table  productlines  productlines        46   \n",
       "6  table      products      products        47   \n",
       "7  table     employees     employees        56   \n",
       "\n",
       "                                                 sql  \n",
       "0  CREATE TABLE `orderdetails` (`orderNumber`, `p...  \n",
       "1  CREATE TABLE `payments` (`customerNumber`, `ch...  \n",
       "2  CREATE TABLE `offices` (`officeCode`, `city`, ...  \n",
       "3  CREATE TABLE `customers` (`customerNumber`, `c...  \n",
       "4  CREATE TABLE `orders` (`orderNumber`, `orderDa...  \n",
       "5  CREATE TABLE `productlines` (`productLine`, `t...  \n",
       "6  CREATE TABLE `products` (`productCode`, `produ...  \n",
       "7  CREATE TABLE `employees` (`employeeNumber`, `l...  "
      ]
     },
     "execution_count": 2,
     "metadata": {},
     "output_type": "execute_result"
    }
   ],
   "source": [
    "# CodeGrade step0\n",
    "# Run this cell without changes\n",
    "\n",
    "# SQL Library and Pandas Library\n",
    "import sqlite3\n",
    "import pandas as pd\n",
    "\n",
    "# Connect to the database\n",
    "conn = sqlite3.connect('data.sqlite')\n",
    "\n",
    "pd.read_sql(\"\"\"SELECT * FROM sqlite_master\"\"\", conn)"
   ]
  },
  {
   "cell_type": "markdown",
   "metadata": {},
   "source": [
    "## Part 1: Join and Filter"
   ]
  },
  {
   "cell_type": "markdown",
   "metadata": {
    "id": "RgXBvTg5Dj4g"
   },
   "source": [
    "### Step 1\n",
    "\n",
    "The company would like to let Boston employees go remote but need to know more information about who is working in that office. Return the first and last names and the job titles for all employees in Boston."
   ]
  },
  {
   "cell_type": "code",
   "execution_count": 3,
   "metadata": {},
   "outputs": [],
   "source": [
    "# CodeGrade step1\n",
    "# Replace None with your code\n",
    "df_boston = pd.read_sql(\"\"\"\n",
    "SELECT firstName, lastName, jobTitle\n",
    "FROM employees e\n",
    "JOIN offices o ON e.officeCode = o.officeCode\n",
    "WHERE o.city = 'Boston';\n",
    "\"\"\", conn)"
   ]
  },
  {
   "cell_type": "markdown",
   "metadata": {
    "id": "HFg4zZz3DwsT"
   },
   "source": [
    "### Step 2\n",
    "\n",
    "Recent downsizing and employee attrition have caused some mixups in office tracking and the company is worried they are supporting a 'ghost' location. Are there any offices that have zero employees?"
   ]
  },
  {
   "cell_type": "code",
   "execution_count": 4,
   "metadata": {},
   "outputs": [],
   "source": [
    "# CodeGrade step2\n",
    "# Replace None with your code\n",
    "df_zero_emp = pd.read_sql(\"\"\"\n",
    "SELECT o.officeCode, o.city\n",
    "FROM offices o \n",
    "LEFT JOIN employees e ON e.officeCode = o.officeCode\n",
    "WHERE e.employeeNumber IS NULL;\n",
    "\"\"\", conn)"
   ]
  },
  {
   "cell_type": "markdown",
   "metadata": {},
   "source": [
    "## Part 2: Type of Join"
   ]
  },
  {
   "cell_type": "markdown",
   "metadata": {
    "id": "WjQpZqZ4ERx7"
   },
   "source": [
    "### Step 3\n",
    "\n",
    "As a part of this larger analysis project the HR department is taking the time to audit employee records to make sure nothing is out of place and have asked you to produce a report of all employees. Return the employees first name and last name along with the city and state of the office that they work out of (if they have one). Include all employees and order them by their first name, then their last name."
   ]
  },
  {
   "cell_type": "code",
   "execution_count": 5,
   "metadata": {},
   "outputs": [],
   "source": [
    "# CodeGrade step3\n",
    "# Replace None with your code\n",
    "df_employee = pd.read_sql(\"\"\"\n",
    "SELECT e.firstName, e.lastName, o.city, o.state\n",
    "FROM employees e\n",
    "LEFT JOIN offices o ON e.officeCode = o.officeCode\n",
    "GROUP BY e.employeeNumber\n",
    "ORDER BY e.firstName, e.lastName;\n",
    "\"\"\", conn)"
   ]
  },
  {
   "cell_type": "markdown",
   "metadata": {
    "id": "VwT9eePzEl8I"
   },
   "source": [
    "### Step 4\n",
    "The customer management and sales rep team know that they have several 'customers' in the system that have not placed any orders. They want to reach out to these customers with updated product catalogs to try and get them to place initial orders. Return all of the customer's contact information (first name, last name, and phone number) as well as their sales rep's employee number for any customer that has not placed an order. Sort the results alphabetically based on the contact's last name\n",
    "\n",
    "There are several approaches you could take here, including a left join and filtering on null values or using a subquery to filter out customers who do have orders. In total there are 24 customers who have not placed an order."
   ]
  },
  {
   "cell_type": "code",
   "execution_count": 6,
   "metadata": {},
   "outputs": [],
   "source": [
    "# CodeGrade step4\n",
    "# Replace None with your code\n",
    "df_contacts = pd.read_sql(\"\"\"\n",
    "SELECT c.contactFirstName, c.contactLastName, c.phone, c.salesRepEmployeeNumber\n",
    "FROM customers c\n",
    "LEFT JOIN orders o ON c.customerNumber = o.customerNumber\n",
    "WHERE o.customerNumber IS NULL\n",
    "GROUP BY c.customerNumber\n",
    "ORDER BY c.contactFirstName ASC;\n",
    "\"\"\", conn)"
   ]
  },
  {
   "cell_type": "markdown",
   "metadata": {},
   "source": [
    "## Part 3: Built-in Function"
   ]
  },
  {
   "cell_type": "markdown",
   "metadata": {
    "id": "YSiD-VGsE3tt"
   },
   "source": [
    "### Step 5\n",
    "\n",
    "The accounting team is auditing their figures and wants to make sure all customer payments are in alignment, they have asked you to produce a report of all the customer contacts (first and last names) along with details for each of the customers' payment amounts and date of payment. They have asked that these results be sorted in descending order by the payment amount.\n",
    "\n",
    "Hint: A member of their team mentioned that they are not sure the 'amount' column is being stored as the right datatype so keep this in mind when sorting."
   ]
  },
  {
   "cell_type": "code",
   "execution_count": 7,
   "metadata": {},
   "outputs": [
    {
     "data": {
      "text/html": [
       "<div>\n",
       "<style scoped>\n",
       "    .dataframe tbody tr th:only-of-type {\n",
       "        vertical-align: middle;\n",
       "    }\n",
       "\n",
       "    .dataframe tbody tr th {\n",
       "        vertical-align: top;\n",
       "    }\n",
       "\n",
       "    .dataframe thead th {\n",
       "        text-align: right;\n",
       "    }\n",
       "</style>\n",
       "<table border=\"1\" class=\"dataframe\">\n",
       "  <thead>\n",
       "    <tr style=\"text-align: right;\">\n",
       "      <th></th>\n",
       "      <th>contactFirstName</th>\n",
       "      <th>contactLastName</th>\n",
       "      <th>amount</th>\n",
       "      <th>paymentDate</th>\n",
       "    </tr>\n",
       "  </thead>\n",
       "  <tbody>\n",
       "    <tr>\n",
       "      <th>0</th>\n",
       "      <td>Diego</td>\n",
       "      <td>Freyre</td>\n",
       "      <td>120166.58</td>\n",
       "      <td>2005-03-18</td>\n",
       "    </tr>\n",
       "    <tr>\n",
       "      <th>1</th>\n",
       "      <td>Diego</td>\n",
       "      <td>Freyre</td>\n",
       "      <td>116208.40</td>\n",
       "      <td>2004-12-31</td>\n",
       "    </tr>\n",
       "    <tr>\n",
       "      <th>2</th>\n",
       "      <td>Susan</td>\n",
       "      <td>Nelson</td>\n",
       "      <td>111654.40</td>\n",
       "      <td>2003-08-15</td>\n",
       "    </tr>\n",
       "    <tr>\n",
       "      <th>3</th>\n",
       "      <td>Eric</td>\n",
       "      <td>Natividad</td>\n",
       "      <td>105743.00</td>\n",
       "      <td>2003-12-26</td>\n",
       "    </tr>\n",
       "    <tr>\n",
       "      <th>4</th>\n",
       "      <td>Susan</td>\n",
       "      <td>Nelson</td>\n",
       "      <td>101244.59</td>\n",
       "      <td>2005-03-05</td>\n",
       "    </tr>\n",
       "    <tr>\n",
       "      <th>...</th>\n",
       "      <td>...</td>\n",
       "      <td>...</td>\n",
       "      <td>...</td>\n",
       "      <td>...</td>\n",
       "    </tr>\n",
       "    <tr>\n",
       "      <th>268</th>\n",
       "      <td>Carine</td>\n",
       "      <td>Schmitt</td>\n",
       "      <td>1676.14</td>\n",
       "      <td>2004-12-18</td>\n",
       "    </tr>\n",
       "    <tr>\n",
       "      <th>269</th>\n",
       "      <td>Pascale</td>\n",
       "      <td>Cartrain</td>\n",
       "      <td>1627.56</td>\n",
       "      <td>2003-04-19</td>\n",
       "    </tr>\n",
       "    <tr>\n",
       "      <th>270</th>\n",
       "      <td>Jonas</td>\n",
       "      <td>Bergulfsen</td>\n",
       "      <td>1491.38</td>\n",
       "      <td>2003-10-28</td>\n",
       "    </tr>\n",
       "    <tr>\n",
       "      <th>271</th>\n",
       "      <td>Pascale</td>\n",
       "      <td>Cartrain</td>\n",
       "      <td>1128.20</td>\n",
       "      <td>2003-08-22</td>\n",
       "    </tr>\n",
       "    <tr>\n",
       "      <th>272</th>\n",
       "      <td>Akiko</td>\n",
       "      <td>Shimamura</td>\n",
       "      <td>615.45</td>\n",
       "      <td>2005-05-18</td>\n",
       "    </tr>\n",
       "  </tbody>\n",
       "</table>\n",
       "<p>273 rows × 4 columns</p>\n",
       "</div>"
      ],
      "text/plain": [
       "    contactFirstName contactLastName     amount paymentDate\n",
       "0             Diego           Freyre  120166.58  2005-03-18\n",
       "1             Diego           Freyre  116208.40  2004-12-31\n",
       "2              Susan          Nelson  111654.40  2003-08-15\n",
       "3               Eric       Natividad  105743.00  2003-12-26\n",
       "4              Susan          Nelson  101244.59  2005-03-05\n",
       "..               ...             ...        ...         ...\n",
       "268          Carine          Schmitt    1676.14  2004-12-18\n",
       "269         Pascale         Cartrain    1627.56  2003-04-19\n",
       "270           Jonas       Bergulfsen    1491.38  2003-10-28\n",
       "271         Pascale         Cartrain    1128.20  2003-08-22\n",
       "272            Akiko       Shimamura     615.45  2005-05-18\n",
       "\n",
       "[273 rows x 4 columns]"
      ]
     },
     "execution_count": 7,
     "metadata": {},
     "output_type": "execute_result"
    }
   ],
   "source": [
    "# CodeGrade step5\n",
    "# Replace None with your code\n",
    "df_payment = pd.read_sql(\"\"\"\n",
    "SELECT c.contactFirstName, c.contactLastName, CAST(p.amount AS REAL) AS amount, p.paymentdate\n",
    "FROM customers c \n",
    "INNER JOIN payments p ON c.customerNumber = p.customerNumber\n",
    "ORDER BY amount DESC;\n",
    "\"\"\", conn)\n",
    "\n",
    "df_payment\n"
   ]
  },
  {
   "cell_type": "markdown",
   "metadata": {},
   "source": [
    "## Part 4: Joining and Grouping"
   ]
  },
  {
   "cell_type": "markdown",
   "metadata": {},
   "source": [
    "### Step 6\n",
    "\n",
    "The sales rep team has noticed several key team members that stand out as having trustworthy business relations with their customers, reflected by high credit limits indicating more potential for orders. The team wants you to identify these 4 individuals. Return the employee number, first name, last name, and number of customers for employees whose customers have an average credit limit over 90k. Sort by number of customers from high to low."
   ]
  },
  {
   "cell_type": "code",
   "execution_count": 28,
   "metadata": {},
   "outputs": [],
   "source": [
    "# CodeGrade step6\n",
    "# Replace None with your code\n",
    "df_credit = pd.read_sql(\"\"\"\n",
    "SELECT e.employeeNumber, e.firstName, e.lastName, COUNT(DISTINCT c.customerNumber) AS n_customers, AVG(CAST(c.creditLimit AS REAL)) AS avg_credit_limit\n",
    "FROM employees e\n",
    "JOIN customers c ON c.salesRepEmployeeNumber = e.employeeNumber\n",
    "GROUP BY e.employeeNumber, e.firstName, e.lastName\n",
    "HAVING AVG(CAST(c.creditLimit AS REAL)) > 90000\n",
    "ORDER BY n_customers DESC, avg_credit_limit DESC\n",
    "LIMIT 4;\n",
    "\"\"\", conn)"
   ]
  },
  {
   "cell_type": "markdown",
   "metadata": {
    "id": "oBc9ymJOFB7k"
   },
   "source": [
    "### Step 7\n",
    "\n",
    "The product team is looking to create new model kits and wants to know which current products are selling the most in order to get an idea of what is popular. Return the product name and count the number of orders for each product as a column named 'numorders'. Also return a new column, 'totalunits', that sums up the total quantity of product sold (use the quantityOrdered column). Sort the results by the totalunits column, highest to lowest, to showcase the top selling products."
   ]
  },
  {
   "cell_type": "code",
   "execution_count": 27,
   "metadata": {},
   "outputs": [
    {
     "data": {
      "text/html": [
       "<div>\n",
       "<style scoped>\n",
       "    .dataframe tbody tr th:only-of-type {\n",
       "        vertical-align: middle;\n",
       "    }\n",
       "\n",
       "    .dataframe tbody tr th {\n",
       "        vertical-align: top;\n",
       "    }\n",
       "\n",
       "    .dataframe thead th {\n",
       "        text-align: right;\n",
       "    }\n",
       "</style>\n",
       "<table border=\"1\" class=\"dataframe\">\n",
       "  <thead>\n",
       "    <tr style=\"text-align: right;\">\n",
       "      <th></th>\n",
       "      <th>productName</th>\n",
       "      <th>numorders</th>\n",
       "      <th>totalunits</th>\n",
       "    </tr>\n",
       "  </thead>\n",
       "  <tbody>\n",
       "    <tr>\n",
       "      <th>0</th>\n",
       "      <td>1992 Ferrari 360 Spider red</td>\n",
       "      <td>53</td>\n",
       "      <td>1808.0</td>\n",
       "    </tr>\n",
       "    <tr>\n",
       "      <th>1</th>\n",
       "      <td>1937 Lincoln Berline</td>\n",
       "      <td>28</td>\n",
       "      <td>1111.0</td>\n",
       "    </tr>\n",
       "    <tr>\n",
       "      <th>2</th>\n",
       "      <td>American Airlines: MD-11S</td>\n",
       "      <td>28</td>\n",
       "      <td>1085.0</td>\n",
       "    </tr>\n",
       "    <tr>\n",
       "      <th>3</th>\n",
       "      <td>1941 Chevrolet Special Deluxe Cabriolet</td>\n",
       "      <td>28</td>\n",
       "      <td>1076.0</td>\n",
       "    </tr>\n",
       "    <tr>\n",
       "      <th>4</th>\n",
       "      <td>1930 Buick Marquette Phaeton</td>\n",
       "      <td>28</td>\n",
       "      <td>1074.0</td>\n",
       "    </tr>\n",
       "    <tr>\n",
       "      <th>...</th>\n",
       "      <td>...</td>\n",
       "      <td>...</td>\n",
       "      <td>...</td>\n",
       "    </tr>\n",
       "    <tr>\n",
       "      <th>104</th>\n",
       "      <td>1999 Indy 500 Monte Carlo SS</td>\n",
       "      <td>25</td>\n",
       "      <td>855.0</td>\n",
       "    </tr>\n",
       "    <tr>\n",
       "      <th>105</th>\n",
       "      <td>1911 Ford Town Car</td>\n",
       "      <td>25</td>\n",
       "      <td>832.0</td>\n",
       "    </tr>\n",
       "    <tr>\n",
       "      <th>106</th>\n",
       "      <td>1936 Mercedes Benz 500k Roadster</td>\n",
       "      <td>25</td>\n",
       "      <td>824.0</td>\n",
       "    </tr>\n",
       "    <tr>\n",
       "      <th>107</th>\n",
       "      <td>1970 Chevy Chevelle SS 454</td>\n",
       "      <td>25</td>\n",
       "      <td>803.0</td>\n",
       "    </tr>\n",
       "    <tr>\n",
       "      <th>108</th>\n",
       "      <td>1957 Ford Thunderbird</td>\n",
       "      <td>24</td>\n",
       "      <td>767.0</td>\n",
       "    </tr>\n",
       "  </tbody>\n",
       "</table>\n",
       "<p>109 rows × 3 columns</p>\n",
       "</div>"
      ],
      "text/plain": [
       "                                 productName  numorders  totalunits\n",
       "0                1992 Ferrari 360 Spider red         53      1808.0\n",
       "1                       1937 Lincoln Berline         28      1111.0\n",
       "2                  American Airlines: MD-11S         28      1085.0\n",
       "3    1941 Chevrolet Special Deluxe Cabriolet         28      1076.0\n",
       "4               1930 Buick Marquette Phaeton         28      1074.0\n",
       "..                                       ...        ...         ...\n",
       "104             1999 Indy 500 Monte Carlo SS         25       855.0\n",
       "105                       1911 Ford Town Car         25       832.0\n",
       "106         1936 Mercedes Benz 500k Roadster         25       824.0\n",
       "107               1970 Chevy Chevelle SS 454         25       803.0\n",
       "108                    1957 Ford Thunderbird         24       767.0\n",
       "\n",
       "[109 rows x 3 columns]"
      ]
     },
     "execution_count": 27,
     "metadata": {},
     "output_type": "execute_result"
    }
   ],
   "source": [
    "# CodeGrade step7\n",
    "# Replace None with your code\n",
    "df_product_sold = pd.read_sql(\"\"\"\n",
    "SELECT p.productName, COUNT(DISTINCT o.orderNumber) AS numorders, SUM(CAST(o.quantityOrdered AS REAL)) AS totalunits\n",
    "FROM products p\n",
    "JOIN orderdetails o ON o.productCode = p.productCode\n",
    "GROUP BY p.productName\n",
    "ORDER BY totalunits DESC;\n",
    "\"\"\", conn)"
   ]
  },
  {
   "cell_type": "markdown",
   "metadata": {},
   "source": [
    "## Part 5: Multiple Joins"
   ]
  },
  {
   "cell_type": "markdown",
   "metadata": {
    "id": "rC9zNmRgFeIu"
   },
   "source": [
    "### Step 8\n",
    "\n",
    "As a follow-up to the above question, the product team also wants to know how many different customers ordered each product to get an idea of market reach. Return the product name, code, and the total number of customers who have ordered each product, aliased as 'numpurchasers'. Sort the results by the highest  number of purchasers.\n",
    "\n",
    "Hint: You might need to join more than 2 tables. Use DISTINCT to return unique/different values."
   ]
  },
  {
   "cell_type": "code",
   "execution_count": 32,
   "metadata": {},
   "outputs": [],
   "source": [
    "# CodeGrade step8\n",
    "# Replace None with your code\n",
    "df_total_customers = pd.read_sql(\"\"\"\n",
    "SELECT p.productName, p.productCode, COUNT(DISTINCT c.customerName) AS numpurchasers\n",
    "FROM products p\n",
    "JOIN orderdetails d ON p.productCode = d.productCode\n",
    "JOIN orders o ON o.orderNumber = d.orderNumber\n",
    "JOIN customers c ON c.customerNumber = o.customerNumber\n",
    "GROUP BY p.productName, p.productCode\n",
    "ORDER BY numpurchasers DESC;\n",
    "\"\"\", conn)"
   ]
  },
  {
   "cell_type": "markdown",
   "metadata": {},
   "source": [
    "### Step 9\n",
    "\n",
    "The custom relations team is worried they are not staffing locations properly to account for customer volume. They want to know how many customers there are per office. Return the count as a column named 'n_customers'. Also return the office code and city."
   ]
  },
  {
   "cell_type": "code",
   "execution_count": 30,
   "metadata": {},
   "outputs": [],
   "source": [
    "# CodeGrade step9\n",
    "# Replace None with your code\n",
    "df_customers = pd.read_sql(\"\"\"\n",
    "SELECT o.officeCode, o.city, COUNT(DISTINCT c.customerName) AS n_customers\n",
    "FROM offices o\n",
    "JOIN employees e ON e.officeCode = o.officeCode\n",
    "JOIN customers c ON e.employeeNumber = c.salesRepEmployeeNumber\n",
    "GROUP BY o.officeCode, o.city\n",
    "ORDER BY n_customers DESC;\n",
    "\"\"\", conn)"
   ]
  },
  {
   "cell_type": "markdown",
   "metadata": {},
   "source": [
    "## Part 6: Subquery"
   ]
  },
  {
   "cell_type": "markdown",
   "metadata": {
    "id": "If3Bste-Fulo"
   },
   "source": [
    "### Step 10\n",
    "\n",
    "Having looked at the results from above, the product team is curious to dig into the underperforming products. They want to ask members of the team who have sold these products about what kind of messaging was successful in getting a customer to buy these specific products. Using a subquery or common table expression (CTE), select the employee number, first name, last name, city of the office, and the office code for employees who sold products that have been ordered by fewer than 20 customers.\n",
    "\n",
    "Hint: Start with the subquery, find all the products that have been ordered by 19 or less customers, consider adapting one of your previous queries."
   ]
  },
  {
   "cell_type": "code",
   "execution_count": 37,
   "metadata": {},
   "outputs": [],
   "source": [
    "# CodeGrade step10\n",
    "# Replace None with your code\n",
    "df_under_20 = pd.read_sql(\"\"\"\n",
    "WITH under_20 AS (\n",
    "    SELECT\n",
    "        od.productCode,\n",
    "        COUNT(DISTINCT o.customerNumber) AS cust_cnt\n",
    "    FROM orderdetails od\n",
    "    JOIN orders o ON o.orderNumber = od.orderNumber\n",
    "    GROUP BY od.productCode\n",
    "    HAVING COUNT(DISTINCT o.customerNumber) < 20\n",
    ")\n",
    "SELECT DISTINCT\n",
    "    e.employeeNumber,\n",
    "    e.firstName,\n",
    "    e.lastName,\n",
    "    o.city,\n",
    "    o.officeCode\n",
    "FROM employees e\n",
    "JOIN offices o ON o.officeCode = e.officeCode\n",
    "JOIN customers c ON c.salesRepEmployeeNumber = e.employeeNumber\n",
    "JOIN orders o ON o.customerNumber = c.customerNumber\n",
    "JOIN orderdetails od ON od.orderNumber = o.orderNumber\n",
    "JOIN under_20 u ON u.productCode = od.productCode\n",
    "ORDER BY e.lastName, e.firstName, o.officeCode;\n",
    "\"\"\", conn)"
   ]
  },
  {
   "cell_type": "markdown",
   "metadata": {
    "id": "b0YHiqxXGa-5"
   },
   "source": [
    "### Close the connection"
   ]
  },
  {
   "cell_type": "code",
   "execution_count": 38,
   "metadata": {
    "id": "oEcx2cZ2Gc21"
   },
   "outputs": [],
   "source": [
    "# Run this cell without changes\n",
    "\n",
    "conn.close()"
   ]
  }
 ],
 "metadata": {
  "colab": {
   "provenance": []
  },
  "kernelspec": {
   "display_name": "Python (mac_m.c0c1)",
   "language": "python",
   "name": "mac_m.c0c1"
  },
  "language_info": {
   "codemirror_mode": {
    "name": "ipython",
    "version": 3
   },
   "file_extension": ".py",
   "mimetype": "text/x-python",
   "name": "python",
   "nbconvert_exporter": "python",
   "pygments_lexer": "ipython3",
   "version": "3.12.4"
  }
 },
 "nbformat": 4,
 "nbformat_minor": 4
}
